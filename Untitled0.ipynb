{
  "nbformat": 4,
  "nbformat_minor": 0,
  "metadata": {
    "colab": {
      "provenance": [],
      "authorship_tag": "ABX9TyPzir8cSOKnCNkzMKPfd+Lg",
      "include_colab_link": true
    },
    "kernelspec": {
      "name": "python3",
      "display_name": "Python 3"
    },
    "language_info": {
      "name": "python"
    }
  },
  "cells": [
    {
      "cell_type": "markdown",
      "metadata": {
        "id": "view-in-github",
        "colab_type": "text"
      },
      "source": [
        "<a href=\"https://colab.research.google.com/github/mfaria-p/BREASTMNIST_CNN/blob/main/Untitled0.ipynb\" target=\"_parent\"><img src=\"https://colab.research.google.com/assets/colab-badge.svg\" alt=\"Open In Colab\"/></a>"
      ]
    },
    {
      "cell_type": "code",
      "execution_count": 2,
      "metadata": {
        "colab": {
          "base_uri": "https://localhost:8080/"
        },
        "id": "KKg8Ue215Ark",
        "outputId": "fef7f85c-8076-49ce-847b-39f575429644"
      },
      "outputs": [
        {
          "output_type": "stream",
          "name": "stdout",
          "text": [
            "\u001b[2K   \u001b[90m━━━━━━━━━━━━━━━━━━━━━━━━━━━━━━━━━━━━━━━━\u001b[0m \u001b[32m115.9/115.9 kB\u001b[0m \u001b[31m3.7 MB/s\u001b[0m eta \u001b[36m0:00:00\u001b[0m\n",
            "\u001b[2K     \u001b[90m━━━━━━━━━━━━━━━━━━━━━━━━━━━━━━━━━━━━━━━━\u001b[0m \u001b[32m68.5/68.5 kB\u001b[0m \u001b[31m1.6 MB/s\u001b[0m eta \u001b[36m0:00:00\u001b[0m\n",
            "\u001b[2K   \u001b[90m━━━━━━━━━━━━━━━━━━━━━━━━━━━━━━━━━━━━━━━━\u001b[0m \u001b[32m2.2/2.2 MB\u001b[0m \u001b[31m22.5 MB/s\u001b[0m eta \u001b[36m0:00:00\u001b[0m\n",
            "\u001b[2K   \u001b[90m━━━━━━━━━━━━━━━━━━━━━━━━━━━━━━━━━━━━━━━━\u001b[0m \u001b[32m19.7/19.7 MB\u001b[0m \u001b[31m15.8 MB/s\u001b[0m eta \u001b[36m0:00:00\u001b[0m\n",
            "\u001b[2K   \u001b[90m━━━━━━━━━━━━━━━━━━━━━━━━━━━━━━━━━━━━━━━━\u001b[0m \u001b[32m84.5/84.5 kB\u001b[0m \u001b[31m7.0 MB/s\u001b[0m eta \u001b[36m0:00:00\u001b[0m\n",
            "\u001b[2K   \u001b[90m━━━━━━━━━━━━━━━━━━━━━━━━━━━━━━━━━━━━━━━━\u001b[0m \u001b[32m50.5/50.5 kB\u001b[0m \u001b[31m4.1 MB/s\u001b[0m eta \u001b[36m0:00:00\u001b[0m\n",
            "\u001b[?25h"
          ]
        }
      ],
      "source": [
        "\n",
        "!pip install -q medmnist==2.2.0 torch torchvision torchaudio --extra-index-url https://download.pytorch.org/whl/cu118\n",
        "!pip install -q timm==0.9.2 scikit-learn matplotlib seaborn gradio==3.35.0\n"
      ]
    },
    {
      "cell_type": "code",
      "source": [
        "from medmnist import INFO, BreastMNIST\n",
        "import os\n",
        "import numpy as np\n",
        "import torch\n",
        "import torch.nn as nn\n",
        "import torch.optim as optim\n",
        "from torch.utils.data import DataLoader, random_split\n",
        "import torchvision.transforms as transforms\n",
        "#import torchvision.models as models\n",
        "from tqdm import trange, tqdm\n",
        "from sklearn.metrics import accuracy_score, classification_report, confusion_matrix\n",
        "import matplotlib.pyplot as plt\n",
        "from io import BytesIO\n",
        "from PIL import Image\n",
        "import numpy as np\n",
        "import gradio as gr\n",
        "\n",
        "\n",
        "device = torch.device(\"cuda\" if torch.cuda.is_available() else \"cpu\")\n",
        "print(\"Device:\", device)\n"
      ],
      "metadata": {
        "colab": {
          "base_uri": "https://localhost:8080/"
        },
        "id": "V0g49dI87lYb",
        "outputId": "33488666-ab13-4c9a-b916-de585e69c023"
      },
      "execution_count": 36,
      "outputs": [
        {
          "output_type": "stream",
          "name": "stdout",
          "text": [
            "Device: cpu\n"
          ]
        },
        {
          "output_type": "stream",
          "name": "stderr",
          "text": [
            "/usr/local/lib/python3.12/dist-packages/gradio_client/documentation.py:106: UserWarning: Could not get documentation group for <class 'gradio.mix.Parallel'>: No known documentation group for module 'gradio.mix'\n",
            "  warnings.warn(f\"Could not get documentation group for {cls}: {exc}\")\n",
            "/usr/local/lib/python3.12/dist-packages/gradio_client/documentation.py:106: UserWarning: Could not get documentation group for <class 'gradio.mix.Series'>: No known documentation group for module 'gradio.mix'\n",
            "  warnings.warn(f\"Could not get documentation group for {cls}: {exc}\")\n"
          ]
        }
      ]
    },
    {
      "cell_type": "code",
      "source": [
        "download_root = './medmnist_data'\n",
        "os.makedirs(download_root, exist_ok=True)\n",
        "data_flag = 'breastmnist'\n",
        "info = INFO[data_flag]\n",
        "task = info['task']\n",
        "n_channels = info['n_channels']\n",
        "n_classes = len(info['label'])\n",
        "classes = list(info['label'].values())\n",
        "print(info.keys())\n",
        "print(info)\n",
        "\n",
        "print(\"\\nTask:\", task)\n",
        "print(\"Channels:\", n_channels)\n",
        "print(\"Classes:\", n_classes)\n",
        "print(\"Label names:\", classes)"
      ],
      "metadata": {
        "colab": {
          "base_uri": "https://localhost:8080/"
        },
        "id": "-1DKuWXQ78Sx",
        "outputId": "de2c5a30-267c-4137-c46a-b4b3c69b7e6c"
      },
      "execution_count": 13,
      "outputs": [
        {
          "output_type": "stream",
          "name": "stdout",
          "text": [
            "dict_keys(['python_class', 'description', 'url', 'MD5', 'task', 'label', 'n_channels', 'n_samples', 'license'])\n",
            "{'python_class': 'BreastMNIST', 'description': 'The BreastMNIST is based on a dataset of 780 breast ultrasound images. It is categorized into 3 classes: normal, benign, and malignant. As we use low-resolution images, we simplify the task into binary classification by combining normal and benign as positive and classifying them against malignant as negative. We split the source dataset with a ratio of 7:1:2 into training, validation and test set. The source images of 1×500×500 are resized into 1×28×28.', 'url': 'https://zenodo.org/record/6496656/files/breastmnist.npz?download=1', 'MD5': '750601b1f35ba3300ea97c75c52ff8f6', 'task': 'binary-class', 'label': {'0': 'malignant', '1': 'normal, benign'}, 'n_channels': 1, 'n_samples': {'train': 546, 'val': 78, 'test': 156}, 'license': 'CC BY 4.0'}\n",
            "\n",
            "Task: binary-class\n",
            "Channels: 1\n",
            "Classes: 2\n",
            "Label names: ['malignant', 'normal, benign']\n"
          ]
        }
      ]
    },
    {
      "cell_type": "code",
      "source": [
        "transform = transforms.Compose([\n",
        "    transforms.ToTensor(),\n",
        "])\n",
        "\n",
        "train_ds = BreastMNIST(root=download_root, split='train', transform=transform, download=True)\n",
        "val_ds   = BreastMNIST(root=download_root, split='val',   transform=transform, download=True)\n",
        "test_ds  = BreastMNIST(root=download_root, split='test',  transform=transform, download=True)\n",
        "\n",
        "print(\"\\nTrain size:\", len(train_ds), \"Val size:\", len(val_ds), \"Test size:\", len(test_ds))"
      ],
      "metadata": {
        "colab": {
          "base_uri": "https://localhost:8080/"
        },
        "id": "_XKFFC3D8674",
        "outputId": "5ec1b43f-99d7-499a-a497-261a022c2b9d"
      },
      "execution_count": 16,
      "outputs": [
        {
          "output_type": "stream",
          "name": "stdout",
          "text": [
            "\n",
            "Train size: 546 Val size: 78 Test size: 156\n"
          ]
        }
      ]
    },
    {
      "cell_type": "code",
      "source": [
        "# Colab cell 4\n",
        "batch_size = 64\n",
        "\n",
        "train_loader = DataLoader(train_ds, batch_size=batch_size, shuffle=True, num_workers=2)\n",
        "val_loader   = DataLoader(val_ds,   batch_size=batch_size, shuffle=False, num_workers=2)\n",
        "test_loader  = DataLoader(test_ds,  batch_size=batch_size, shuffle=False, num_workers=2)\n"
      ],
      "metadata": {
        "id": "HFFCuKPP_7FP"
      },
      "execution_count": 18,
      "outputs": []
    },
    {
      "cell_type": "code",
      "source": [
        "class SmallCNN(nn.Module):\n",
        "    def __init__(self, num_classes=2):\n",
        "        super().__init__()\n",
        "        self.features = nn.Sequential(\n",
        "            nn.Conv2d(1, 16, kernel_size=3, padding=1), # 28x28 -> 28x28\n",
        "            nn.BatchNorm2d(16),\n",
        "            nn.ReLU(),\n",
        "            nn.MaxPool2d(2),                             # 14x14\n",
        "            nn.Conv2d(16, 32, kernel_size=3, padding=1),# 14x14\n",
        "            nn.BatchNorm2d(32),\n",
        "            nn.ReLU(),\n",
        "            nn.MaxPool2d(2),                             # 7x7\n",
        "            nn.Conv2d(32, 64, kernel_size=3, padding=1),# 7x7\n",
        "            nn.BatchNorm2d(64),\n",
        "            nn.ReLU(),\n",
        "            nn.AdaptiveAvgPool2d((1,1))                  # 1x1\n",
        "        )\n",
        "        self.classifier = nn.Sequential(\n",
        "            nn.Flatten(),\n",
        "            nn.Linear(64, 32),\n",
        "            nn.ReLU(),\n",
        "            nn.Dropout(0.3),\n",
        "            nn.Linear(32, num_classes)\n",
        "        )\n",
        "\n",
        "    def forward(self, x):\n",
        "        x = self.features(x)\n",
        "        x = self.classifier(x)\n",
        "        return x\n",
        "\n",
        "model = SmallCNN(num_classes=n_classes).to(device)\n",
        "print(model)\n"
      ],
      "metadata": {
        "colab": {
          "base_uri": "https://localhost:8080/"
        },
        "id": "zCFYnP46ApYg",
        "outputId": "ce96323c-4cde-4d3f-e19e-570201850c1c"
      },
      "execution_count": 21,
      "outputs": [
        {
          "output_type": "stream",
          "name": "stdout",
          "text": [
            "SmallCNN(\n",
            "  (features): Sequential(\n",
            "    (0): Conv2d(1, 16, kernel_size=(3, 3), stride=(1, 1), padding=(1, 1))\n",
            "    (1): BatchNorm2d(16, eps=1e-05, momentum=0.1, affine=True, track_running_stats=True)\n",
            "    (2): ReLU()\n",
            "    (3): MaxPool2d(kernel_size=2, stride=2, padding=0, dilation=1, ceil_mode=False)\n",
            "    (4): Conv2d(16, 32, kernel_size=(3, 3), stride=(1, 1), padding=(1, 1))\n",
            "    (5): BatchNorm2d(32, eps=1e-05, momentum=0.1, affine=True, track_running_stats=True)\n",
            "    (6): ReLU()\n",
            "    (7): MaxPool2d(kernel_size=2, stride=2, padding=0, dilation=1, ceil_mode=False)\n",
            "    (8): Conv2d(32, 64, kernel_size=(3, 3), stride=(1, 1), padding=(1, 1))\n",
            "    (9): BatchNorm2d(64, eps=1e-05, momentum=0.1, affine=True, track_running_stats=True)\n",
            "    (10): ReLU()\n",
            "    (11): AdaptiveAvgPool2d(output_size=(1, 1))\n",
            "  )\n",
            "  (classifier): Sequential(\n",
            "    (0): Flatten(start_dim=1, end_dim=-1)\n",
            "    (1): Linear(in_features=64, out_features=32, bias=True)\n",
            "    (2): ReLU()\n",
            "    (3): Dropout(p=0.3, inplace=False)\n",
            "    (4): Linear(in_features=32, out_features=2, bias=True)\n",
            "  )\n",
            ")\n"
          ]
        }
      ]
    },
    {
      "cell_type": "code",
      "source": [
        "MODEL_PATH = \"./best_breastmnist_cnn.pth\"\n",
        "\n",
        "criterion = nn.CrossEntropyLoss()\n",
        "optimizer = optim.Adam(model.parameters(), lr=1e-3)\n",
        "num_epochs = 12  # lightweight default; increase if you want better performance\n",
        "\n",
        "best_val_acc = 0.0\n",
        "for epoch in range(num_epochs):\n",
        "    model.train()\n",
        "    running_loss = 0.0\n",
        "    for imgs, labels in tqdm(train_loader, desc=f\"Epoch {epoch+1}/{num_epochs} - train\"):\n",
        "        imgs = imgs.to(device)\n",
        "        labels = labels.squeeze().long().to(device)  # labels shape might be (N,1)\n",
        "        optimizer.zero_grad()\n",
        "        outputs = model(imgs)\n",
        "        loss = criterion(outputs, labels)\n",
        "        loss.backward()\n",
        "        optimizer.step()\n",
        "        running_loss += loss.item() * imgs.size(0)\n",
        "    epoch_loss = running_loss / len(train_loader.dataset)\n",
        "\n",
        "    # validation\n",
        "    model.eval()\n",
        "    y_true, y_pred = [], []\n",
        "    with torch.no_grad():\n",
        "        for imgs, labels in val_loader:\n",
        "            imgs = imgs.to(device)\n",
        "            labels = labels.squeeze().long().to(device)\n",
        "            outputs = model(imgs)\n",
        "            preds = outputs.argmax(dim=1)\n",
        "            y_true.extend(labels.cpu().numpy().tolist())\n",
        "            y_pred.extend(preds.cpu().numpy().tolist())\n",
        "    val_acc = accuracy_score(y_true, y_pred)\n",
        "    print(f\"Epoch {epoch+1}/{num_epochs} - loss: {epoch_loss:.4f} - val_acc: {val_acc:.4f}\")\n",
        "\n",
        "    # save best\n",
        "    if val_acc > best_val_acc:\n",
        "        best_val_acc = val_acc\n",
        "        torch.save(model.state_dict(), MODEL_PATH)\n",
        "        print(f\"Saved best model (val_acc={best_val_acc:.4f}) -> {MODEL_PATH}\")\n",
        "\n",
        "print(\"Training complete. Best val acc:\", best_val_acc)\n"
      ],
      "metadata": {
        "colab": {
          "base_uri": "https://localhost:8080/"
        },
        "id": "7DwXpSfmCm5d",
        "outputId": "f1d98861-fd07-49b6-a66a-4d394e0661b7"
      },
      "execution_count": 25,
      "outputs": [
        {
          "output_type": "stream",
          "name": "stderr",
          "text": [
            "Epoch 1/12 - train: 100%|██████████| 9/9 [00:00<00:00, 15.60it/s]\n"
          ]
        },
        {
          "output_type": "stream",
          "name": "stdout",
          "text": [
            "Epoch 1/12 - loss: 0.3978 - val_acc: 0.7821\n",
            "Saved best model (val_acc=0.7821) -> ./best_breastmnist_cnn.pth\n"
          ]
        },
        {
          "output_type": "stream",
          "name": "stderr",
          "text": [
            "Epoch 2/12 - train: 100%|██████████| 9/9 [00:00<00:00, 15.28it/s]\n"
          ]
        },
        {
          "output_type": "stream",
          "name": "stdout",
          "text": [
            "Epoch 2/12 - loss: 0.3695 - val_acc: 0.8462\n",
            "Saved best model (val_acc=0.8462) -> ./best_breastmnist_cnn.pth\n"
          ]
        },
        {
          "output_type": "stream",
          "name": "stderr",
          "text": [
            "Epoch 3/12 - train: 100%|██████████| 9/9 [00:00<00:00, 15.26it/s]\n"
          ]
        },
        {
          "output_type": "stream",
          "name": "stdout",
          "text": [
            "Epoch 3/12 - loss: 0.3746 - val_acc: 0.7564\n"
          ]
        },
        {
          "output_type": "stream",
          "name": "stderr",
          "text": [
            "Epoch 4/12 - train: 100%|██████████| 9/9 [00:00<00:00, 14.37it/s]\n"
          ]
        },
        {
          "output_type": "stream",
          "name": "stdout",
          "text": [
            "Epoch 4/12 - loss: 0.3587 - val_acc: 0.7949\n"
          ]
        },
        {
          "output_type": "stream",
          "name": "stderr",
          "text": [
            "Epoch 5/12 - train: 100%|██████████| 9/9 [00:00<00:00, 15.48it/s]\n"
          ]
        },
        {
          "output_type": "stream",
          "name": "stdout",
          "text": [
            "Epoch 5/12 - loss: 0.3379 - val_acc: 0.8333\n"
          ]
        },
        {
          "output_type": "stream",
          "name": "stderr",
          "text": [
            "Epoch 6/12 - train: 100%|██████████| 9/9 [00:00<00:00, 15.85it/s]\n"
          ]
        },
        {
          "output_type": "stream",
          "name": "stdout",
          "text": [
            "Epoch 6/12 - loss: 0.3206 - val_acc: 0.8333\n"
          ]
        },
        {
          "output_type": "stream",
          "name": "stderr",
          "text": [
            "Epoch 7/12 - train: 100%|██████████| 9/9 [00:00<00:00, 15.53it/s]\n"
          ]
        },
        {
          "output_type": "stream",
          "name": "stdout",
          "text": [
            "Epoch 7/12 - loss: 0.3120 - val_acc: 0.8590\n",
            "Saved best model (val_acc=0.8590) -> ./best_breastmnist_cnn.pth\n"
          ]
        },
        {
          "output_type": "stream",
          "name": "stderr",
          "text": [
            "Epoch 8/12 - train: 100%|██████████| 9/9 [00:00<00:00, 15.32it/s]\n"
          ]
        },
        {
          "output_type": "stream",
          "name": "stdout",
          "text": [
            "Epoch 8/12 - loss: 0.3007 - val_acc: 0.8718\n",
            "Saved best model (val_acc=0.8718) -> ./best_breastmnist_cnn.pth\n"
          ]
        },
        {
          "output_type": "stream",
          "name": "stderr",
          "text": [
            "Epoch 9/12 - train: 100%|██████████| 9/9 [00:00<00:00, 15.63it/s]\n"
          ]
        },
        {
          "output_type": "stream",
          "name": "stdout",
          "text": [
            "Epoch 9/12 - loss: 0.2813 - val_acc: 0.8077\n"
          ]
        },
        {
          "output_type": "stream",
          "name": "stderr",
          "text": [
            "Epoch 10/12 - train: 100%|██████████| 9/9 [00:00<00:00, 15.69it/s]\n"
          ]
        },
        {
          "output_type": "stream",
          "name": "stdout",
          "text": [
            "Epoch 10/12 - loss: 0.2698 - val_acc: 0.8718\n"
          ]
        },
        {
          "output_type": "stream",
          "name": "stderr",
          "text": [
            "Epoch 11/12 - train: 100%|██████████| 9/9 [00:00<00:00, 15.19it/s]\n"
          ]
        },
        {
          "output_type": "stream",
          "name": "stdout",
          "text": [
            "Epoch 11/12 - loss: 0.2695 - val_acc: 0.8974\n",
            "Saved best model (val_acc=0.8974) -> ./best_breastmnist_cnn.pth\n"
          ]
        },
        {
          "output_type": "stream",
          "name": "stderr",
          "text": [
            "Epoch 12/12 - train: 100%|██████████| 9/9 [00:00<00:00, 15.15it/s]\n"
          ]
        },
        {
          "output_type": "stream",
          "name": "stdout",
          "text": [
            "Epoch 12/12 - loss: 0.2422 - val_acc: 0.7949\n",
            "Training complete. Best val acc: 0.8974358974358975\n"
          ]
        }
      ]
    },
    {
      "cell_type": "code",
      "source": [
        "model.load_state_dict(torch.load(MODEL_PATH, map_location=device))\n",
        "model.eval()\n",
        "\n",
        "y_true, y_pred, y_scores = [], [], []\n",
        "with torch.no_grad():\n",
        "    for imgs, labels in test_loader:\n",
        "        imgs = imgs.to(device)\n",
        "        labels = labels.squeeze().long().to(device)\n",
        "        outputs = model(imgs)\n",
        "        probs = torch.softmax(outputs, dim=1)\n",
        "        preds = probs.argmax(dim=1)\n",
        "        y_true.extend(labels.cpu().numpy().tolist())\n",
        "        y_pred.extend(preds.cpu().numpy().tolist())\n",
        "        y_scores.extend(probs.cpu().numpy().tolist())\n",
        "\n",
        "acc_test = accuracy_score(y_true, y_pred)\n",
        "print(\"Test accuracy:\", acc_test)\n",
        "print(\"Classification report:\\n\", classification_report(y_true, y_pred, digits=4))\n",
        "\n",
        "cm = confusion_matrix(y_true, y_pred)\n",
        "plt.figure(figsize=(4,4))\n",
        "plt.imshow(cm, interpolation='nearest')\n",
        "plt.title(\"Confusion matrix (test)\")\n",
        "plt.colorbar()\n",
        "plt.xlabel(\"Predicted\")\n",
        "plt.ylabel(\"True\")\n",
        "for (i,j), val in np.ndenumerate(cm):\n",
        "    plt.text(j, i, int(val), ha='center', va='center', color='white' if val>cm.max()/2 else 'black')\n",
        "plt.show()"
      ],
      "metadata": {
        "colab": {
          "base_uri": "https://localhost:8080/",
          "height": 549
        },
        "id": "U15tWWtPD8rz",
        "outputId": "902d019b-5e06-4338-a817-84d8364bcbb9"
      },
      "execution_count": 33,
      "outputs": [
        {
          "output_type": "stream",
          "name": "stdout",
          "text": [
            "Test accuracy: 0.8205128205128205\n",
            "Classification report:\n",
            "               precision    recall  f1-score   support\n",
            "\n",
            "           0     0.7059    0.5714    0.6316        42\n",
            "           1     0.8525    0.9123    0.8814       114\n",
            "\n",
            "    accuracy                         0.8205       156\n",
            "   macro avg     0.7792    0.7419    0.7565       156\n",
            "weighted avg     0.8130    0.8205    0.8141       156\n",
            "\n"
          ]
        },
        {
          "output_type": "display_data",
          "data": {
            "text/plain": [
              "<Figure size 400x400 with 2 Axes>"
            ],
            "image/png": "[encoded data removed]"
          },
          "metadata": {}
        }
      ]
    },
    {
      "cell_type": "code",
      "source": [
        "\n",
        "LABELS = {\n",
        "    0: \"malignant\",\n",
        "    1: \"normal, benign\"\n",
        "}\n",
        "\n",
        "def preprocess_image_for_model(pil_image: Image.Image):\n",
        "    pil = pil_image.convert(\"L\").resize((28, 28), Image.BILINEAR)\n",
        "    arr = np.array(pil).astype(np.float32) / 255.0\n",
        "    tensor = torch.from_numpy(arr).unsqueeze(0).unsqueeze(0)\n",
        "    return tensor\n",
        "\n",
        "def predict_image(pil_image: Image.Image):\n",
        "    model.eval()\n",
        "    tensor = preprocess_image_for_model(pil_image).to(device)\n",
        "    with torch.no_grad():\n",
        "        outputs = model(tensor)\n",
        "        probs = torch.softmax(outputs, dim=1).cpu().numpy()[0]\n",
        "        pred = int(np.argmax(probs))\n",
        "    return LABELS[pred], float(probs[pred]), {LABELS[i]: float(probs[i]) for i in range(len(probs))}\n",
        "\n"
      ],
      "metadata": {
        "id": "Nc-z6raLEl79"
      },
      "execution_count": 48,
      "outputs": []
    },
    {
      "cell_type": "code",
      "source": [
        "title = \"Breast Tissue Classification (BreastMNIST demo)\"\n",
        "description = \"\"\"\n",
        "Upload a breast tissue image (microscopy / ROI). This demo uses a model trained on the BreastMNIST dataset (MedMNIST).\n",
        "**Disclaimer:** This is a demo/proof-of-concept using a small research dataset. Do NOT use for clinical diagnosis without rigorous validation and regulatory approval.\n",
        "\"\"\"\n",
        "\n",
        "def gradio_predict(pil_image):\n",
        "    return predict_image(pil_image)\n",
        "\n",
        "iface = gr.Interface(\n",
        "    fn=gradio_predict,\n",
        "    inputs=gr.Image(type=\"pil\", label=\"Upload image\"),\n",
        "    outputs=[\n",
        "        gr.Textbox(label=\"Predicted label\"),\n",
        "        gr.Number(label=\"Probability\"),\n",
        "        gr.JSON(label=\"All class probabilities\")\n",
        "    ],\n",
        "    title=title,\n",
        "    description=description,\n",
        "    allow_flagging=\"never\",\n",
        ")\n",
        "\n",
        "print(\"Launching Gradio app...\")\n",
        "iface.launch(share=True)\n"
      ],
      "metadata": {
        "colab": {
          "base_uri": "https://localhost:8080/",
          "height": 663
        },
        "id": "aydqxh9pG7Dc",
        "outputId": "c3d734ae-7de9-4eac-afa4-3e23608e0bbf"
      },
      "execution_count": 51,
      "outputs": [
        {
          "output_type": "stream",
          "name": "stdout",
          "text": [
            "IMPORTANT: You are using gradio version 3.35.0, however version 4.44.1 is available, please upgrade.\n",
            "--------\n",
            "Launching Gradio app...\n",
            "Colab notebook detected. To show errors in colab notebook, set debug=True in launch()\n",
            "Running on public URL: https://c78fae29f643489416.gradio.live\n",
            "\n",
            "This share link expires in 72 hours. For free permanent hosting and GPU upgrades, run `gradio deploy` from Terminal to deploy to Spaces (https://huggingface.co/spaces)\n"
          ]
        },
        {
          "output_type": "display_data",
          "data": {
            "text/plain": [
              "<IPython.core.display.HTML object>"
            ],
            "text/html": [
              "<div><iframe src=\"https://c78fae29f643489416.gradio.live\" width=\"100%\" height=\"500\" allow=\"autoplay; camera; microphone; clipboard-read; clipboard-write;\" frameborder=\"0\" allowfullscreen></iframe></div>"
            ]
          },
          "metadata": {}
        },
        {
          "output_type": "execute_result",
          "data": {
            "text/plain": []
          },
          "metadata": {},
          "execution_count": 51
        }
      ]
    },
    {
      "cell_type": "code",
      "source": [],
      "metadata": {
        "id": "ZU57iBnyIu1z"
      },
      "execution_count": null,
      "outputs": []
    }
  ]
}